{
 "cells": [
  {
   "cell_type": "markdown",
   "metadata": {},
   "source": [
    "# Aula 3 \n",
    "## Challenge 4\n",
    "___"
   ]
  },
  {
   "cell_type": "markdown",
   "metadata": {},
   "source": [
    "Crie uma classe chamado corpusenhanced, herdado de corpus e implemente:\n",
    "\n",
    "Método para converter o conteúdo dos textos para letras minúsculas.\n",
    "Método para imprimir em tela texto por texto.\n",
    "\n",
    "Hint: string.Lower() converte para mínusculas. Para acessar atributos da classe herdada utilize nome-da-classe.Nome-do-método(self, parâmetros), exemplo Corpus.get_lista_texto(self)."
   ]
  },
  {
   "cell_type": "code",
   "execution_count": 3,
   "metadata": {
    "collapsed": true
   },
   "outputs": [],
   "source": [
    "import functools\n",
    "\n",
    "class Corpus(object):\n",
    "    \n",
    "    def __init__(self, lista_texto):\n",
    "        self.lista_texto = lista_texto\n",
    "        \n",
    "    def inserir_texto(self, texto):\n",
    "        self.lista_texto.append(texto)\n",
    "    \n",
    "    def get_lista_texto(self):\n",
    "        return self.lista_texto\n",
    "    \n",
    "    def set_lista_texto(self, lista_texto):\n",
    "        self.lista_texto = lista_texto\n",
    "    \n",
    "    def __str__(self):\n",
    "        count_word = lambda x : len(x.split(\" \"))\n",
    "        lista_palavras = list(map(count_word, self.lista_texto))\n",
    "        maior_num_palavras = functools.reduce(lambda x, y: x if x > y else y, lista_palavras)\n",
    "        retorno = \"Número de textos %s\\nMaior número de palavras %s\"%(len(self.lista_texto), maior_num_palavras)\n",
    "        return retorno\n",
    "    \n",
    "    def __len__(self):\n",
    "        return len(self.lista_texto)\n",
    "    "
   ]
  },
  {
   "cell_type": "code",
   "execution_count": 4,
   "metadata": {
    "collapsed": true
   },
   "outputs": [],
   "source": [
    "class CorpusEnhanced(Corpus):\n",
    "    \n",
    "    def __init__(self, lista_texto):\n",
    "        Corpus.__init__(self, lista_texto)\n",
    "        \n",
    "    def converter_minusculas(self):\n",
    "        count_word = lambda x : x.lower()\n",
    "        Corpus.set_lista_texto(self, list(map(count_word, Corpus.get_lista_texto(self))))\n",
    "    \n",
    "    def mostrar_textos(self):\n",
    "        for item in Corpus.get_lista_texto(self):\n",
    "            print(item)"
   ]
  },
  {
   "cell_type": "code",
   "execution_count": 5,
   "metadata": {
    "collapsed": true
   },
   "outputs": [],
   "source": [
    "lista = [\"DSDDSA dsada dsada das\", \"dsad dsa dsa dsa das\"]"
   ]
  },
  {
   "cell_type": "code",
   "execution_count": 6,
   "metadata": {
    "collapsed": true
   },
   "outputs": [],
   "source": [
    "corpus2 = CorpusEnhanced(lista)"
   ]
  },
  {
   "cell_type": "code",
   "execution_count": 7,
   "metadata": {
    "collapsed": true
   },
   "outputs": [],
   "source": [
    "corpus2.inserir_texto(\"Teste de texto\")"
   ]
  },
  {
   "cell_type": "code",
   "execution_count": 8,
   "metadata": {},
   "outputs": [
    {
     "name": "stdout",
     "output_type": "stream",
     "text": [
      "Número de textos 3\n",
      "Maior número de palavras 5\n"
     ]
    }
   ],
   "source": [
    "print(corpus2)"
   ]
  },
  {
   "cell_type": "code",
   "execution_count": 9,
   "metadata": {},
   "outputs": [
    {
     "name": "stdout",
     "output_type": "stream",
     "text": [
      "DSDDSA dsada dsada das\n",
      "dsad dsa dsa dsa das\n",
      "Teste de texto\n"
     ]
    }
   ],
   "source": [
    "corpus2.mostrar_textos()"
   ]
  },
  {
   "cell_type": "code",
   "execution_count": 10,
   "metadata": {
    "collapsed": true
   },
   "outputs": [],
   "source": [
    "corpus2.converter_minusculas()"
   ]
  },
  {
   "cell_type": "code",
   "execution_count": 11,
   "metadata": {},
   "outputs": [
    {
     "name": "stdout",
     "output_type": "stream",
     "text": [
      "dsddsa dsada dsada das\n",
      "dsad dsa dsa dsa das\n",
      "teste de texto\n"
     ]
    }
   ],
   "source": [
    "corpus2.mostrar_textos()"
   ]
  },
  {
   "cell_type": "code",
   "execution_count": null,
   "metadata": {
    "collapsed": true
   },
   "outputs": [],
   "source": []
  }
 ],
 "metadata": {
  "kernelspec": {
   "display_name": "Python 3",
   "language": "python",
   "name": "python3"
  },
  "language_info": {
   "codemirror_mode": {
    "name": "ipython",
    "version": 3
   },
   "file_extension": ".py",
   "mimetype": "text/x-python",
   "name": "python",
   "nbconvert_exporter": "python",
   "pygments_lexer": "ipython3",
   "version": "3.6.2"
  }
 },
 "nbformat": 4,
 "nbformat_minor": 2
}
