{
 "cells": [
  {
   "cell_type": "markdown",
   "metadata": {},
   "source": [
    "# Aula 8: Regressão Linear e Flask\n",
    "\n",
    "## Challenge 1"
   ]
  },
  {
   "cell_type": "markdown",
   "metadata": {},
   "source": [
    "Analise os dados da fonte \"data/beer_consumption.xlsx” em busca de valores nulos, inválidos ou ainda correlacionados, e proponha uma forma de preservá-los e utilizá-los no treinamento de um modelo de regressão linear.\n",
    "\n",
    "Antes de realizar qualquer data imputation, mapeie valores de classe como números inteiros."
   ]
  },
  {
   "cell_type": "markdown",
   "metadata": {},
   "source": [
    "### Preparar os dados"
   ]
  },
  {
   "cell_type": "code",
   "execution_count": 80,
   "metadata": {
    "collapsed": true
   },
   "outputs": [],
   "source": [
    "import numpy as np\n",
    "import pandas as pd\n",
    "import seaborn as sns\n",
    "import matplotlib.pyplot as plt\n",
    "%matplotlib inline"
   ]
  },
  {
   "cell_type": "code",
   "execution_count": 81,
   "metadata": {},
   "outputs": [
    {
     "data": {
      "text/html": [
       "<div>\n",
       "<style>\n",
       "    .dataframe thead tr:only-child th {\n",
       "        text-align: right;\n",
       "    }\n",
       "\n",
       "    .dataframe thead th {\n",
       "        text-align: left;\n",
       "    }\n",
       "\n",
       "    .dataframe tbody tr th {\n",
       "        vertical-align: top;\n",
       "    }\n",
       "</style>\n",
       "<table border=\"1\" class=\"dataframe\">\n",
       "  <thead>\n",
       "    <tr style=\"text-align: right;\">\n",
       "      <th></th>\n",
       "      <th>data</th>\n",
       "      <th>temp_avg</th>\n",
       "      <th>temp_min</th>\n",
       "      <th>temp_max</th>\n",
       "      <th>precip</th>\n",
       "      <th>weekend</th>\n",
       "      <th>beer_consumption</th>\n",
       "    </tr>\n",
       "  </thead>\n",
       "  <tbody>\n",
       "    <tr>\n",
       "      <th>0</th>\n",
       "      <td>2015-01-01</td>\n",
       "      <td>27.30</td>\n",
       "      <td>23.9</td>\n",
       "      <td>32.5</td>\n",
       "      <td>0.0</td>\n",
       "      <td>False</td>\n",
       "      <td>25461</td>\n",
       "    </tr>\n",
       "    <tr>\n",
       "      <th>1</th>\n",
       "      <td>2015-01-02</td>\n",
       "      <td>27.02</td>\n",
       "      <td>24.5</td>\n",
       "      <td>33.5</td>\n",
       "      <td>0.0</td>\n",
       "      <td>False</td>\n",
       "      <td>28972</td>\n",
       "    </tr>\n",
       "    <tr>\n",
       "      <th>2</th>\n",
       "      <td>2015-01-03</td>\n",
       "      <td>24.82</td>\n",
       "      <td>22.4</td>\n",
       "      <td>29.9</td>\n",
       "      <td>0.0</td>\n",
       "      <td>True</td>\n",
       "      <td>30814</td>\n",
       "    </tr>\n",
       "    <tr>\n",
       "      <th>3</th>\n",
       "      <td>2015-01-04</td>\n",
       "      <td>23.98</td>\n",
       "      <td>21.5</td>\n",
       "      <td>28.6</td>\n",
       "      <td>1.2</td>\n",
       "      <td>True</td>\n",
       "      <td>29799</td>\n",
       "    </tr>\n",
       "    <tr>\n",
       "      <th>4</th>\n",
       "      <td>2015-01-05</td>\n",
       "      <td>23.82</td>\n",
       "      <td>21.0</td>\n",
       "      <td>28.3</td>\n",
       "      <td>0.0</td>\n",
       "      <td>False</td>\n",
       "      <td>28900</td>\n",
       "    </tr>\n",
       "    <tr>\n",
       "      <th>5</th>\n",
       "      <td>2015-01-06</td>\n",
       "      <td>23.78</td>\n",
       "      <td>20.1</td>\n",
       "      <td>30.5</td>\n",
       "      <td>12.2</td>\n",
       "      <td>False</td>\n",
       "      <td>28218</td>\n",
       "    </tr>\n",
       "    <tr>\n",
       "      <th>6</th>\n",
       "      <td>2015-01-07</td>\n",
       "      <td>24.00</td>\n",
       "      <td>19.5</td>\n",
       "      <td>33.7</td>\n",
       "      <td>0.0</td>\n",
       "      <td>False</td>\n",
       "      <td>29732</td>\n",
       "    </tr>\n",
       "    <tr>\n",
       "      <th>7</th>\n",
       "      <td>2015-01-08</td>\n",
       "      <td>24.90</td>\n",
       "      <td>NaN</td>\n",
       "      <td>32.8</td>\n",
       "      <td>48.6</td>\n",
       "      <td>False</td>\n",
       "      <td>28397</td>\n",
       "    </tr>\n",
       "    <tr>\n",
       "      <th>8</th>\n",
       "      <td>2015-01-09</td>\n",
       "      <td>28.20</td>\n",
       "      <td>21.9</td>\n",
       "      <td>34.0</td>\n",
       "      <td>4.4</td>\n",
       "      <td>False</td>\n",
       "      <td>24886</td>\n",
       "    </tr>\n",
       "    <tr>\n",
       "      <th>9</th>\n",
       "      <td>2015-01-10</td>\n",
       "      <td>26.76</td>\n",
       "      <td>22.1</td>\n",
       "      <td>34.2</td>\n",
       "      <td>0.0</td>\n",
       "      <td>True</td>\n",
       "      <td>37937</td>\n",
       "    </tr>\n",
       "  </tbody>\n",
       "</table>\n",
       "</div>"
      ],
      "text/plain": [
       "        data  temp_avg  temp_min  temp_max  precip weekend  beer_consumption\n",
       "0 2015-01-01     27.30      23.9      32.5     0.0   False             25461\n",
       "1 2015-01-02     27.02      24.5      33.5     0.0   False             28972\n",
       "2 2015-01-03     24.82      22.4      29.9     0.0    True             30814\n",
       "3 2015-01-04     23.98      21.5      28.6     1.2    True             29799\n",
       "4 2015-01-05     23.82      21.0      28.3     0.0   False             28900\n",
       "5 2015-01-06     23.78      20.1      30.5    12.2   False             28218\n",
       "6 2015-01-07     24.00      19.5      33.7     0.0   False             29732\n",
       "7 2015-01-08     24.90       NaN      32.8    48.6   False             28397\n",
       "8 2015-01-09     28.20      21.9      34.0     4.4   False             24886\n",
       "9 2015-01-10     26.76      22.1      34.2     0.0    True             37937"
      ]
     },
     "execution_count": 81,
     "metadata": {},
     "output_type": "execute_result"
    }
   ],
   "source": [
    "df_beer = pd.read_excel(\"data/beer_consumption.xlsx\")\n",
    "df_beer.head(10)"
   ]
  },
  {
   "cell_type": "code",
   "execution_count": 82,
   "metadata": {},
   "outputs": [
    {
     "data": {
      "text/html": [
       "<div>\n",
       "<style>\n",
       "    .dataframe thead tr:only-child th {\n",
       "        text-align: right;\n",
       "    }\n",
       "\n",
       "    .dataframe thead th {\n",
       "        text-align: left;\n",
       "    }\n",
       "\n",
       "    .dataframe tbody tr th {\n",
       "        vertical-align: top;\n",
       "    }\n",
       "</style>\n",
       "<table border=\"1\" class=\"dataframe\">\n",
       "  <thead>\n",
       "    <tr style=\"text-align: right;\">\n",
       "      <th></th>\n",
       "      <th>temp_avg</th>\n",
       "      <th>temp_min</th>\n",
       "      <th>temp_max</th>\n",
       "      <th>precip</th>\n",
       "      <th>beer_consumption</th>\n",
       "    </tr>\n",
       "  </thead>\n",
       "  <tbody>\n",
       "    <tr>\n",
       "      <th>count</th>\n",
       "      <td>361.000000</td>\n",
       "      <td>363.000000</td>\n",
       "      <td>362.000000</td>\n",
       "      <td>365.000000</td>\n",
       "      <td>365.000000</td>\n",
       "    </tr>\n",
       "    <tr>\n",
       "      <th>mean</th>\n",
       "      <td>21.101385</td>\n",
       "      <td>17.396970</td>\n",
       "      <td>26.480663</td>\n",
       "      <td>5.196712</td>\n",
       "      <td>25401.367123</td>\n",
       "    </tr>\n",
       "    <tr>\n",
       "      <th>std</th>\n",
       "      <td>3.546618</td>\n",
       "      <td>2.969405</td>\n",
       "      <td>4.758531</td>\n",
       "      <td>12.417844</td>\n",
       "      <td>4399.142703</td>\n",
       "    </tr>\n",
       "    <tr>\n",
       "      <th>min</th>\n",
       "      <td>0.000000</td>\n",
       "      <td>0.000000</td>\n",
       "      <td>0.000000</td>\n",
       "      <td>0.000000</td>\n",
       "      <td>14343.000000</td>\n",
       "    </tr>\n",
       "    <tr>\n",
       "      <th>25%</th>\n",
       "      <td>18.920000</td>\n",
       "      <td>15.200000</td>\n",
       "      <td>23.725000</td>\n",
       "      <td>0.000000</td>\n",
       "      <td>22008.000000</td>\n",
       "    </tr>\n",
       "    <tr>\n",
       "      <th>50%</th>\n",
       "      <td>21.360000</td>\n",
       "      <td>17.900000</td>\n",
       "      <td>26.900000</td>\n",
       "      <td>0.000000</td>\n",
       "      <td>24867.000000</td>\n",
       "    </tr>\n",
       "    <tr>\n",
       "      <th>75%</th>\n",
       "      <td>23.280000</td>\n",
       "      <td>19.550000</td>\n",
       "      <td>29.400000</td>\n",
       "      <td>3.200000</td>\n",
       "      <td>28631.000000</td>\n",
       "    </tr>\n",
       "    <tr>\n",
       "      <th>max</th>\n",
       "      <td>28.860000</td>\n",
       "      <td>24.500000</td>\n",
       "      <td>36.500000</td>\n",
       "      <td>94.800000</td>\n",
       "      <td>37937.000000</td>\n",
       "    </tr>\n",
       "  </tbody>\n",
       "</table>\n",
       "</div>"
      ],
      "text/plain": [
       "         temp_avg    temp_min    temp_max      precip  beer_consumption\n",
       "count  361.000000  363.000000  362.000000  365.000000        365.000000\n",
       "mean    21.101385   17.396970   26.480663    5.196712      25401.367123\n",
       "std      3.546618    2.969405    4.758531   12.417844       4399.142703\n",
       "min      0.000000    0.000000    0.000000    0.000000      14343.000000\n",
       "25%     18.920000   15.200000   23.725000    0.000000      22008.000000\n",
       "50%     21.360000   17.900000   26.900000    0.000000      24867.000000\n",
       "75%     23.280000   19.550000   29.400000    3.200000      28631.000000\n",
       "max     28.860000   24.500000   36.500000   94.800000      37937.000000"
      ]
     },
     "execution_count": 82,
     "metadata": {},
     "output_type": "execute_result"
    }
   ],
   "source": [
    "df_beer.describe()"
   ]
  },
  {
   "cell_type": "code",
   "execution_count": 83,
   "metadata": {},
   "outputs": [
    {
     "data": {
      "text/plain": [
       "data                365\n",
       "temp_avg            361\n",
       "temp_min            363\n",
       "temp_max            362\n",
       "precip              365\n",
       "weekend             363\n",
       "beer_consumption    365\n",
       "dtype: int64"
      ]
     },
     "execution_count": 83,
     "metadata": {},
     "output_type": "execute_result"
    }
   ],
   "source": [
    "df_beer.count()"
   ]
  },
  {
   "cell_type": "code",
   "execution_count": 84,
   "metadata": {},
   "outputs": [
    {
     "data": {
      "text/plain": [
       "<matplotlib.axes._subplots.AxesSubplot at 0x11cf4d6d8>"
      ]
     },
     "execution_count": 84,
     "metadata": {},
     "output_type": "execute_result"
    },
    {
     "data": {
      "image/png": "[encoded data removed]",
      "text/plain": [
       "<matplotlib.figure.Figure at 0x11cee9a58>"
      ]
     },
     "metadata": {},
     "output_type": "display_data"
    }
   ],
   "source": [
    "sns.heatmap(df_beer.corr())"
   ]
  },
  {
   "cell_type": "code",
   "execution_count": 85,
   "metadata": {},
   "outputs": [
    {
     "data": {
      "text/html": [
       "<div>\n",
       "<style>\n",
       "    .dataframe thead tr:only-child th {\n",
       "        text-align: right;\n",
       "    }\n",
       "\n",
       "    .dataframe thead th {\n",
       "        text-align: left;\n",
       "    }\n",
       "\n",
       "    .dataframe tbody tr th {\n",
       "        vertical-align: top;\n",
       "    }\n",
       "</style>\n",
       "<table border=\"1\" class=\"dataframe\">\n",
       "  <thead>\n",
       "    <tr style=\"text-align: right;\">\n",
       "      <th></th>\n",
       "      <th>temp_avg</th>\n",
       "      <th>temp_min</th>\n",
       "      <th>temp_max</th>\n",
       "      <th>precip</th>\n",
       "      <th>beer_consumption</th>\n",
       "    </tr>\n",
       "  </thead>\n",
       "  <tbody>\n",
       "    <tr>\n",
       "      <th>temp_avg</th>\n",
       "      <td>1.000000</td>\n",
       "      <td>0.678633</td>\n",
       "      <td>0.735339</td>\n",
       "      <td>0.026834</td>\n",
       "      <td>0.503227</td>\n",
       "    </tr>\n",
       "    <tr>\n",
       "      <th>temp_min</th>\n",
       "      <td>0.678633</td>\n",
       "      <td>1.000000</td>\n",
       "      <td>0.531704</td>\n",
       "      <td>0.094701</td>\n",
       "      <td>0.345033</td>\n",
       "    </tr>\n",
       "    <tr>\n",
       "      <th>temp_max</th>\n",
       "      <td>0.735339</td>\n",
       "      <td>0.531704</td>\n",
       "      <td>1.000000</td>\n",
       "      <td>-0.071084</td>\n",
       "      <td>0.587027</td>\n",
       "    </tr>\n",
       "    <tr>\n",
       "      <th>precip</th>\n",
       "      <td>0.026834</td>\n",
       "      <td>0.094701</td>\n",
       "      <td>-0.071084</td>\n",
       "      <td>1.000000</td>\n",
       "      <td>-0.193784</td>\n",
       "    </tr>\n",
       "    <tr>\n",
       "      <th>beer_consumption</th>\n",
       "      <td>0.503227</td>\n",
       "      <td>0.345033</td>\n",
       "      <td>0.587027</td>\n",
       "      <td>-0.193784</td>\n",
       "      <td>1.000000</td>\n",
       "    </tr>\n",
       "  </tbody>\n",
       "</table>\n",
       "</div>"
      ],
      "text/plain": [
       "                  temp_avg  temp_min  temp_max    precip  beer_consumption\n",
       "temp_avg          1.000000  0.678633  0.735339  0.026834          0.503227\n",
       "temp_min          0.678633  1.000000  0.531704  0.094701          0.345033\n",
       "temp_max          0.735339  0.531704  1.000000 -0.071084          0.587027\n",
       "precip            0.026834  0.094701 -0.071084  1.000000         -0.193784\n",
       "beer_consumption  0.503227  0.345033  0.587027 -0.193784          1.000000"
      ]
     },
     "execution_count": 85,
     "metadata": {},
     "output_type": "execute_result"
    }
   ],
   "source": [
    "df_beer.corr()"
   ]
  },
  {
   "cell_type": "markdown",
   "metadata": {},
   "source": [
    "Não foram encontrados colunas correlacionadas o suficiente para removê-las."
   ]
  },
  {
   "cell_type": "markdown",
   "metadata": {},
   "source": [
    "### Compreendendo relações e correlações de variáveis"
   ]
  },
  {
   "cell_type": "code",
   "execution_count": 217,
   "metadata": {},
   "outputs": [
    {
     "data": {
      "text/plain": [
       "<seaborn.axisgrid.FacetGrid at 0x11d9a7748>"
      ]
     },
     "execution_count": 217,
     "metadata": {},
     "output_type": "execute_result"
    },
    {
     "data": {
      "image/png": "[encoded data removed]",
      "text/plain": [
       "<matplotlib.figure.Figure at 0x11d9a7390>"
      ]
     },
     "metadata": {},
     "output_type": "display_data"
    }
   ],
   "source": [
    "sns.lmplot(\"beer_consumption\", \"temp_avg\", df_beer,\n",
    "          scatter_kws={\"marker\":\"x\", \"color\":\"blue\"},\n",
    "          line_kws={\"linewidth\":1, \"color\": \"orange\"})"
   ]
  },
  {
   "cell_type": "code",
   "execution_count": 218,
   "metadata": {},
   "outputs": [
    {
     "data": {
      "text/plain": [
       "<seaborn.axisgrid.FacetGrid at 0x11dbcb240>"
      ]
     },
     "execution_count": 218,
     "metadata": {},
     "output_type": "execute_result"
    },
    {
     "data": {
      "image/png": "[encoded data removed]",
      "text/plain": [
       "<matplotlib.figure.Figure at 0x11dbcbd30>"
      ]
     },
     "metadata": {},
     "output_type": "display_data"
    }
   ],
   "source": [
    "sns.lmplot(\"beer_consumption\", \"temp_max\", df_beer,\n",
    "          scatter_kws={\"marker\":\"x\", \"color\":\"blue\"},\n",
    "          line_kws={\"linewidth\":1, \"color\": \"orange\"})"
   ]
  },
  {
   "cell_type": "code",
   "execution_count": 220,
   "metadata": {},
   "outputs": [
    {
     "data": {
      "text/plain": [
       "<seaborn.axisgrid.FacetGrid at 0x11e16e0b8>"
      ]
     },
     "execution_count": 220,
     "metadata": {},
     "output_type": "execute_result"
    },
    {
     "data": {
      "image/png": "[encoded data removed]",
      "text/plain": [
       "<matplotlib.figure.Figure at 0x11dce1470>"
      ]
     },
     "metadata": {},
     "output_type": "display_data"
    }
   ],
   "source": [
    "sns.lmplot(\"precip\", \"beer_consumption\", df_beer,\n",
    "          scatter_kws={\"marker\":\"x\", \"color\":\"blue\"},\n",
    "          line_kws={\"linewidth\":1, \"color\": \"orange\"})"
   ]
  },
  {
   "cell_type": "markdown",
   "metadata": {},
   "source": [
    "### Mapear dados em label para numéricos"
   ]
  },
  {
   "cell_type": "code",
   "execution_count": 86,
   "metadata": {
    "collapsed": true
   },
   "outputs": [],
   "source": [
    "class_weekend = {True: 1, False: 0}\n",
    "df_beer[\"weekend\"] = df_beer[\"weekend\"].map(class_weekend)"
   ]
  },
  {
   "cell_type": "code",
   "execution_count": 87,
   "metadata": {},
   "outputs": [
    {
     "data": {
      "text/html": [
       "<div>\n",
       "<style>\n",
       "    .dataframe thead tr:only-child th {\n",
       "        text-align: right;\n",
       "    }\n",
       "\n",
       "    .dataframe thead th {\n",
       "        text-align: left;\n",
       "    }\n",
       "\n",
       "    .dataframe tbody tr th {\n",
       "        vertical-align: top;\n",
       "    }\n",
       "</style>\n",
       "<table border=\"1\" class=\"dataframe\">\n",
       "  <thead>\n",
       "    <tr style=\"text-align: right;\">\n",
       "      <th></th>\n",
       "      <th>data</th>\n",
       "      <th>temp_avg</th>\n",
       "      <th>temp_min</th>\n",
       "      <th>temp_max</th>\n",
       "      <th>precip</th>\n",
       "      <th>weekend</th>\n",
       "      <th>beer_consumption</th>\n",
       "    </tr>\n",
       "  </thead>\n",
       "  <tbody>\n",
       "    <tr>\n",
       "      <th>0</th>\n",
       "      <td>2015-01-01</td>\n",
       "      <td>27.30</td>\n",
       "      <td>23.9</td>\n",
       "      <td>32.5</td>\n",
       "      <td>0.0</td>\n",
       "      <td>0.0</td>\n",
       "      <td>25461</td>\n",
       "    </tr>\n",
       "    <tr>\n",
       "      <th>1</th>\n",
       "      <td>2015-01-02</td>\n",
       "      <td>27.02</td>\n",
       "      <td>24.5</td>\n",
       "      <td>33.5</td>\n",
       "      <td>0.0</td>\n",
       "      <td>0.0</td>\n",
       "      <td>28972</td>\n",
       "    </tr>\n",
       "    <tr>\n",
       "      <th>2</th>\n",
       "      <td>2015-01-03</td>\n",
       "      <td>24.82</td>\n",
       "      <td>22.4</td>\n",
       "      <td>29.9</td>\n",
       "      <td>0.0</td>\n",
       "      <td>1.0</td>\n",
       "      <td>30814</td>\n",
       "    </tr>\n",
       "    <tr>\n",
       "      <th>3</th>\n",
       "      <td>2015-01-04</td>\n",
       "      <td>23.98</td>\n",
       "      <td>21.5</td>\n",
       "      <td>28.6</td>\n",
       "      <td>1.2</td>\n",
       "      <td>1.0</td>\n",
       "      <td>29799</td>\n",
       "    </tr>\n",
       "    <tr>\n",
       "      <th>4</th>\n",
       "      <td>2015-01-05</td>\n",
       "      <td>23.82</td>\n",
       "      <td>21.0</td>\n",
       "      <td>28.3</td>\n",
       "      <td>0.0</td>\n",
       "      <td>0.0</td>\n",
       "      <td>28900</td>\n",
       "    </tr>\n",
       "  </tbody>\n",
       "</table>\n",
       "</div>"
      ],
      "text/plain": [
       "        data  temp_avg  temp_min  temp_max  precip  weekend  beer_consumption\n",
       "0 2015-01-01     27.30      23.9      32.5     0.0      0.0             25461\n",
       "1 2015-01-02     27.02      24.5      33.5     0.0      0.0             28972\n",
       "2 2015-01-03     24.82      22.4      29.9     0.0      1.0             30814\n",
       "3 2015-01-04     23.98      21.5      28.6     1.2      1.0             29799\n",
       "4 2015-01-05     23.82      21.0      28.3     0.0      0.0             28900"
      ]
     },
     "execution_count": 87,
     "metadata": {},
     "output_type": "execute_result"
    }
   ],
   "source": [
    "df_beer.head(5)"
   ]
  },
  {
   "cell_type": "markdown",
   "metadata": {},
   "source": [
    "### Busca por dados nulos e inválidos"
   ]
  },
  {
   "cell_type": "code",
   "execution_count": 88,
   "metadata": {},
   "outputs": [
    {
     "data": {
      "text/plain": [
       "data                False\n",
       "temp_avg             True\n",
       "temp_min             True\n",
       "temp_max             True\n",
       "precip              False\n",
       "weekend              True\n",
       "beer_consumption    False\n",
       "dtype: bool"
      ]
     },
     "execution_count": 88,
     "metadata": {},
     "output_type": "execute_result"
    }
   ],
   "source": [
    "df_beer.isnull().any()"
   ]
  },
  {
   "cell_type": "code",
   "execution_count": 89,
   "metadata": {},
   "outputs": [
    {
     "data": {
      "text/html": [
       "<div>\n",
       "<style>\n",
       "    .dataframe thead tr:only-child th {\n",
       "        text-align: right;\n",
       "    }\n",
       "\n",
       "    .dataframe thead th {\n",
       "        text-align: left;\n",
       "    }\n",
       "\n",
       "    .dataframe tbody tr th {\n",
       "        vertical-align: top;\n",
       "    }\n",
       "</style>\n",
       "<table border=\"1\" class=\"dataframe\">\n",
       "  <thead>\n",
       "    <tr style=\"text-align: right;\">\n",
       "      <th></th>\n",
       "      <th>data</th>\n",
       "      <th>temp_avg</th>\n",
       "      <th>temp_min</th>\n",
       "      <th>temp_max</th>\n",
       "      <th>precip</th>\n",
       "      <th>weekend</th>\n",
       "      <th>beer_consumption</th>\n",
       "    </tr>\n",
       "  </thead>\n",
       "  <tbody>\n",
       "    <tr>\n",
       "      <th>168</th>\n",
       "      <td>2015-06-18</td>\n",
       "      <td>NaN</td>\n",
       "      <td>15.8</td>\n",
       "      <td>26.2</td>\n",
       "      <td>0.0</td>\n",
       "      <td>0.0</td>\n",
       "      <td>24534</td>\n",
       "    </tr>\n",
       "    <tr>\n",
       "      <th>181</th>\n",
       "      <td>2015-07-01</td>\n",
       "      <td>NaN</td>\n",
       "      <td>16.2</td>\n",
       "      <td>20.5</td>\n",
       "      <td>0.0</td>\n",
       "      <td>0.0</td>\n",
       "      <td>20824</td>\n",
       "    </tr>\n",
       "    <tr>\n",
       "      <th>309</th>\n",
       "      <td>2015-11-06</td>\n",
       "      <td>NaN</td>\n",
       "      <td>18.0</td>\n",
       "      <td>22.8</td>\n",
       "      <td>0.0</td>\n",
       "      <td>0.0</td>\n",
       "      <td>20575</td>\n",
       "    </tr>\n",
       "    <tr>\n",
       "      <th>314</th>\n",
       "      <td>2015-11-11</td>\n",
       "      <td>NaN</td>\n",
       "      <td>19.8</td>\n",
       "      <td>32.7</td>\n",
       "      <td>0.0</td>\n",
       "      <td>0.0</td>\n",
       "      <td>29569</td>\n",
       "    </tr>\n",
       "  </tbody>\n",
       "</table>\n",
       "</div>"
      ],
      "text/plain": [
       "          data  temp_avg  temp_min  temp_max  precip  weekend  \\\n",
       "168 2015-06-18       NaN      15.8      26.2     0.0      0.0   \n",
       "181 2015-07-01       NaN      16.2      20.5     0.0      0.0   \n",
       "309 2015-11-06       NaN      18.0      22.8     0.0      0.0   \n",
       "314 2015-11-11       NaN      19.8      32.7     0.0      0.0   \n",
       "\n",
       "     beer_consumption  \n",
       "168             24534  \n",
       "181             20824  \n",
       "309             20575  \n",
       "314             29569  "
      ]
     },
     "execution_count": 89,
     "metadata": {},
     "output_type": "execute_result"
    }
   ],
   "source": [
    "df_beer[df_beer[\"temp_avg\"].isnull()]"
   ]
  },
  {
   "cell_type": "code",
   "execution_count": 90,
   "metadata": {},
   "outputs": [
    {
     "data": {
      "text/html": [
       "<div>\n",
       "<style>\n",
       "    .dataframe thead tr:only-child th {\n",
       "        text-align: right;\n",
       "    }\n",
       "\n",
       "    .dataframe thead th {\n",
       "        text-align: left;\n",
       "    }\n",
       "\n",
       "    .dataframe tbody tr th {\n",
       "        vertical-align: top;\n",
       "    }\n",
       "</style>\n",
       "<table border=\"1\" class=\"dataframe\">\n",
       "  <thead>\n",
       "    <tr style=\"text-align: right;\">\n",
       "      <th></th>\n",
       "      <th>data</th>\n",
       "      <th>temp_avg</th>\n",
       "      <th>temp_min</th>\n",
       "      <th>temp_max</th>\n",
       "      <th>precip</th>\n",
       "      <th>weekend</th>\n",
       "      <th>beer_consumption</th>\n",
       "    </tr>\n",
       "  </thead>\n",
       "  <tbody>\n",
       "    <tr>\n",
       "      <th>7</th>\n",
       "      <td>2015-01-08</td>\n",
       "      <td>24.90</td>\n",
       "      <td>NaN</td>\n",
       "      <td>32.8</td>\n",
       "      <td>48.6</td>\n",
       "      <td>0.0</td>\n",
       "      <td>28397</td>\n",
       "    </tr>\n",
       "    <tr>\n",
       "      <th>116</th>\n",
       "      <td>2015-04-27</td>\n",
       "      <td>19.82</td>\n",
       "      <td>NaN</td>\n",
       "      <td>24.9</td>\n",
       "      <td>0.0</td>\n",
       "      <td>0.0</td>\n",
       "      <td>21838</td>\n",
       "    </tr>\n",
       "  </tbody>\n",
       "</table>\n",
       "</div>"
      ],
      "text/plain": [
       "          data  temp_avg  temp_min  temp_max  precip  weekend  \\\n",
       "7   2015-01-08     24.90       NaN      32.8    48.6      0.0   \n",
       "116 2015-04-27     19.82       NaN      24.9     0.0      0.0   \n",
       "\n",
       "     beer_consumption  \n",
       "7               28397  \n",
       "116             21838  "
      ]
     },
     "execution_count": 90,
     "metadata": {},
     "output_type": "execute_result"
    }
   ],
   "source": [
    "df_beer[df_beer[\"temp_min\"].isnull()]"
   ]
  },
  {
   "cell_type": "code",
   "execution_count": 91,
   "metadata": {},
   "outputs": [
    {
     "data": {
      "text/html": [
       "<div>\n",
       "<style>\n",
       "    .dataframe thead tr:only-child th {\n",
       "        text-align: right;\n",
       "    }\n",
       "\n",
       "    .dataframe thead th {\n",
       "        text-align: left;\n",
       "    }\n",
       "\n",
       "    .dataframe tbody tr th {\n",
       "        vertical-align: top;\n",
       "    }\n",
       "</style>\n",
       "<table border=\"1\" class=\"dataframe\">\n",
       "  <thead>\n",
       "    <tr style=\"text-align: right;\">\n",
       "      <th></th>\n",
       "      <th>data</th>\n",
       "      <th>temp_avg</th>\n",
       "      <th>temp_min</th>\n",
       "      <th>temp_max</th>\n",
       "      <th>precip</th>\n",
       "      <th>weekend</th>\n",
       "      <th>beer_consumption</th>\n",
       "    </tr>\n",
       "  </thead>\n",
       "  <tbody>\n",
       "    <tr>\n",
       "      <th>98</th>\n",
       "      <td>2015-04-09</td>\n",
       "      <td>19.40</td>\n",
       "      <td>15.9</td>\n",
       "      <td>NaN</td>\n",
       "      <td>0.0</td>\n",
       "      <td>0.0</td>\n",
       "      <td>20298</td>\n",
       "    </tr>\n",
       "    <tr>\n",
       "      <th>165</th>\n",
       "      <td>2015-06-15</td>\n",
       "      <td>16.02</td>\n",
       "      <td>13.1</td>\n",
       "      <td>NaN</td>\n",
       "      <td>0.0</td>\n",
       "      <td>0.0</td>\n",
       "      <td>19119</td>\n",
       "    </tr>\n",
       "    <tr>\n",
       "      <th>237</th>\n",
       "      <td>2015-08-26</td>\n",
       "      <td>18.92</td>\n",
       "      <td>14.8</td>\n",
       "      <td>NaN</td>\n",
       "      <td>0.6</td>\n",
       "      <td>0.0</td>\n",
       "      <td>23357</td>\n",
       "    </tr>\n",
       "  </tbody>\n",
       "</table>\n",
       "</div>"
      ],
      "text/plain": [
       "          data  temp_avg  temp_min  temp_max  precip  weekend  \\\n",
       "98  2015-04-09     19.40      15.9       NaN     0.0      0.0   \n",
       "165 2015-06-15     16.02      13.1       NaN     0.0      0.0   \n",
       "237 2015-08-26     18.92      14.8       NaN     0.6      0.0   \n",
       "\n",
       "     beer_consumption  \n",
       "98              20298  \n",
       "165             19119  \n",
       "237             23357  "
      ]
     },
     "execution_count": 91,
     "metadata": {},
     "output_type": "execute_result"
    }
   ],
   "source": [
    "df_beer[df_beer[\"temp_max\"].isnull()]"
   ]
  },
  {
   "cell_type": "code",
   "execution_count": 92,
   "metadata": {},
   "outputs": [
    {
     "data": {
      "text/html": [
       "<div>\n",
       "<style>\n",
       "    .dataframe thead tr:only-child th {\n",
       "        text-align: right;\n",
       "    }\n",
       "\n",
       "    .dataframe thead th {\n",
       "        text-align: left;\n",
       "    }\n",
       "\n",
       "    .dataframe tbody tr th {\n",
       "        vertical-align: top;\n",
       "    }\n",
       "</style>\n",
       "<table border=\"1\" class=\"dataframe\">\n",
       "  <thead>\n",
       "    <tr style=\"text-align: right;\">\n",
       "      <th></th>\n",
       "      <th>data</th>\n",
       "      <th>temp_avg</th>\n",
       "      <th>temp_min</th>\n",
       "      <th>temp_max</th>\n",
       "      <th>precip</th>\n",
       "      <th>weekend</th>\n",
       "      <th>beer_consumption</th>\n",
       "    </tr>\n",
       "  </thead>\n",
       "  <tbody>\n",
       "    <tr>\n",
       "      <th>21</th>\n",
       "      <td>2015-01-22</td>\n",
       "      <td>21.74</td>\n",
       "      <td>19.2</td>\n",
       "      <td>0.0</td>\n",
       "      <td>31.0</td>\n",
       "      <td>NaN</td>\n",
       "      <td>25795</td>\n",
       "    </tr>\n",
       "    <tr>\n",
       "      <th>27</th>\n",
       "      <td>2015-01-28</td>\n",
       "      <td>25.68</td>\n",
       "      <td>20.1</td>\n",
       "      <td>29.9</td>\n",
       "      <td>4.9</td>\n",
       "      <td>NaN</td>\n",
       "      <td>22603</td>\n",
       "    </tr>\n",
       "  </tbody>\n",
       "</table>\n",
       "</div>"
      ],
      "text/plain": [
       "         data  temp_avg  temp_min  temp_max  precip  weekend  beer_consumption\n",
       "21 2015-01-22     21.74      19.2       0.0    31.0      NaN             25795\n",
       "27 2015-01-28     25.68      20.1      29.9     4.9      NaN             22603"
      ]
     },
     "execution_count": 92,
     "metadata": {},
     "output_type": "execute_result"
    }
   ],
   "source": [
    "df_beer[df_beer[\"weekend\"].isnull()]"
   ]
  },
  {
   "cell_type": "markdown",
   "metadata": {},
   "source": [
    "Temperatura média pode ser calculada entre a temperatura máxima e mínima"
   ]
  },
  {
   "cell_type": "code",
   "execution_count": 93,
   "metadata": {},
   "outputs": [
    {
     "data": {
      "text/html": [
       "<div>\n",
       "<style>\n",
       "    .dataframe thead tr:only-child th {\n",
       "        text-align: right;\n",
       "    }\n",
       "\n",
       "    .dataframe thead th {\n",
       "        text-align: left;\n",
       "    }\n",
       "\n",
       "    .dataframe tbody tr th {\n",
       "        vertical-align: top;\n",
       "    }\n",
       "</style>\n",
       "<table border=\"1\" class=\"dataframe\">\n",
       "  <thead>\n",
       "    <tr style=\"text-align: right;\">\n",
       "      <th></th>\n",
       "      <th>data</th>\n",
       "      <th>temp_avg</th>\n",
       "      <th>temp_min</th>\n",
       "      <th>temp_max</th>\n",
       "      <th>precip</th>\n",
       "      <th>weekend</th>\n",
       "      <th>beer_consumption</th>\n",
       "    </tr>\n",
       "  </thead>\n",
       "  <tbody>\n",
       "    <tr>\n",
       "      <th>168</th>\n",
       "      <td>2015-06-18</td>\n",
       "      <td>NaN</td>\n",
       "      <td>15.8</td>\n",
       "      <td>26.2</td>\n",
       "      <td>0.0</td>\n",
       "      <td>0.0</td>\n",
       "      <td>24534</td>\n",
       "    </tr>\n",
       "    <tr>\n",
       "      <th>181</th>\n",
       "      <td>2015-07-01</td>\n",
       "      <td>NaN</td>\n",
       "      <td>16.2</td>\n",
       "      <td>20.5</td>\n",
       "      <td>0.0</td>\n",
       "      <td>0.0</td>\n",
       "      <td>20824</td>\n",
       "    </tr>\n",
       "    <tr>\n",
       "      <th>309</th>\n",
       "      <td>2015-11-06</td>\n",
       "      <td>NaN</td>\n",
       "      <td>18.0</td>\n",
       "      <td>22.8</td>\n",
       "      <td>0.0</td>\n",
       "      <td>0.0</td>\n",
       "      <td>20575</td>\n",
       "    </tr>\n",
       "    <tr>\n",
       "      <th>314</th>\n",
       "      <td>2015-11-11</td>\n",
       "      <td>NaN</td>\n",
       "      <td>19.8</td>\n",
       "      <td>32.7</td>\n",
       "      <td>0.0</td>\n",
       "      <td>0.0</td>\n",
       "      <td>29569</td>\n",
       "    </tr>\n",
       "  </tbody>\n",
       "</table>\n",
       "</div>"
      ],
      "text/plain": [
       "          data  temp_avg  temp_min  temp_max  precip  weekend  \\\n",
       "168 2015-06-18       NaN      15.8      26.2     0.0      0.0   \n",
       "181 2015-07-01       NaN      16.2      20.5     0.0      0.0   \n",
       "309 2015-11-06       NaN      18.0      22.8     0.0      0.0   \n",
       "314 2015-11-11       NaN      19.8      32.7     0.0      0.0   \n",
       "\n",
       "     beer_consumption  \n",
       "168             24534  \n",
       "181             20824  \n",
       "309             20575  \n",
       "314             29569  "
      ]
     },
     "execution_count": 93,
     "metadata": {},
     "output_type": "execute_result"
    }
   ],
   "source": [
    "df_beer_temp_avg_null = df_beer[df_beer[\"temp_avg\"].isnull()].copy()\n",
    "df_beer_temp_avg_null"
   ]
  },
  {
   "cell_type": "code",
   "execution_count": 94,
   "metadata": {},
   "outputs": [
    {
     "data": {
      "text/html": [
       "<div>\n",
       "<style>\n",
       "    .dataframe thead tr:only-child th {\n",
       "        text-align: right;\n",
       "    }\n",
       "\n",
       "    .dataframe thead th {\n",
       "        text-align: left;\n",
       "    }\n",
       "\n",
       "    .dataframe tbody tr th {\n",
       "        vertical-align: top;\n",
       "    }\n",
       "</style>\n",
       "<table border=\"1\" class=\"dataframe\">\n",
       "  <thead>\n",
       "    <tr style=\"text-align: right;\">\n",
       "      <th></th>\n",
       "      <th>data</th>\n",
       "      <th>temp_avg</th>\n",
       "      <th>temp_min</th>\n",
       "      <th>temp_max</th>\n",
       "      <th>precip</th>\n",
       "      <th>weekend</th>\n",
       "      <th>beer_consumption</th>\n",
       "    </tr>\n",
       "  </thead>\n",
       "  <tbody>\n",
       "    <tr>\n",
       "      <th>168</th>\n",
       "      <td>2015-06-18</td>\n",
       "      <td>21.00</td>\n",
       "      <td>15.8</td>\n",
       "      <td>26.2</td>\n",
       "      <td>0.0</td>\n",
       "      <td>0.0</td>\n",
       "      <td>24534</td>\n",
       "    </tr>\n",
       "    <tr>\n",
       "      <th>181</th>\n",
       "      <td>2015-07-01</td>\n",
       "      <td>18.35</td>\n",
       "      <td>16.2</td>\n",
       "      <td>20.5</td>\n",
       "      <td>0.0</td>\n",
       "      <td>0.0</td>\n",
       "      <td>20824</td>\n",
       "    </tr>\n",
       "    <tr>\n",
       "      <th>309</th>\n",
       "      <td>2015-11-06</td>\n",
       "      <td>20.40</td>\n",
       "      <td>18.0</td>\n",
       "      <td>22.8</td>\n",
       "      <td>0.0</td>\n",
       "      <td>0.0</td>\n",
       "      <td>20575</td>\n",
       "    </tr>\n",
       "    <tr>\n",
       "      <th>314</th>\n",
       "      <td>2015-11-11</td>\n",
       "      <td>26.25</td>\n",
       "      <td>19.8</td>\n",
       "      <td>32.7</td>\n",
       "      <td>0.0</td>\n",
       "      <td>0.0</td>\n",
       "      <td>29569</td>\n",
       "    </tr>\n",
       "  </tbody>\n",
       "</table>\n",
       "</div>"
      ],
      "text/plain": [
       "          data  temp_avg  temp_min  temp_max  precip  weekend  \\\n",
       "168 2015-06-18     21.00      15.8      26.2     0.0      0.0   \n",
       "181 2015-07-01     18.35      16.2      20.5     0.0      0.0   \n",
       "309 2015-11-06     20.40      18.0      22.8     0.0      0.0   \n",
       "314 2015-11-11     26.25      19.8      32.7     0.0      0.0   \n",
       "\n",
       "     beer_consumption  \n",
       "168             24534  \n",
       "181             20824  \n",
       "309             20575  \n",
       "314             29569  "
      ]
     },
     "execution_count": 94,
     "metadata": {},
     "output_type": "execute_result"
    }
   ],
   "source": [
    "df_beer_temp_avg_null[\"temp_avg\"] = (df_beer[\"temp_max\"] + df_beer[\"temp_min\"])/2\n",
    "df_beer_temp_avg_null"
   ]
  },
  {
   "cell_type": "code",
   "execution_count": 95,
   "metadata": {
    "collapsed": true
   },
   "outputs": [],
   "source": [
    "df_beer[\"temp_avg\"] = df_beer[\"temp_avg\"].replace(np.nan,(df_beer[\"temp_max\"] + df_beer[\"temp_min\"])/2)"
   ]
  },
  {
   "cell_type": "code",
   "execution_count": 96,
   "metadata": {},
   "outputs": [
    {
     "data": {
      "text/html": [
       "<div>\n",
       "<style>\n",
       "    .dataframe thead tr:only-child th {\n",
       "        text-align: right;\n",
       "    }\n",
       "\n",
       "    .dataframe thead th {\n",
       "        text-align: left;\n",
       "    }\n",
       "\n",
       "    .dataframe tbody tr th {\n",
       "        vertical-align: top;\n",
       "    }\n",
       "</style>\n",
       "<table border=\"1\" class=\"dataframe\">\n",
       "  <thead>\n",
       "    <tr style=\"text-align: right;\">\n",
       "      <th></th>\n",
       "      <th>data</th>\n",
       "      <th>temp_avg</th>\n",
       "      <th>temp_min</th>\n",
       "      <th>temp_max</th>\n",
       "      <th>precip</th>\n",
       "      <th>weekend</th>\n",
       "      <th>beer_consumption</th>\n",
       "    </tr>\n",
       "  </thead>\n",
       "  <tbody>\n",
       "    <tr>\n",
       "      <th>168</th>\n",
       "      <td>2015-06-18</td>\n",
       "      <td>21.00</td>\n",
       "      <td>15.8</td>\n",
       "      <td>26.2</td>\n",
       "      <td>0.0</td>\n",
       "      <td>0.0</td>\n",
       "      <td>24534</td>\n",
       "    </tr>\n",
       "    <tr>\n",
       "      <th>181</th>\n",
       "      <td>2015-07-01</td>\n",
       "      <td>18.35</td>\n",
       "      <td>16.2</td>\n",
       "      <td>20.5</td>\n",
       "      <td>0.0</td>\n",
       "      <td>0.0</td>\n",
       "      <td>20824</td>\n",
       "    </tr>\n",
       "    <tr>\n",
       "      <th>309</th>\n",
       "      <td>2015-11-06</td>\n",
       "      <td>20.40</td>\n",
       "      <td>18.0</td>\n",
       "      <td>22.8</td>\n",
       "      <td>0.0</td>\n",
       "      <td>0.0</td>\n",
       "      <td>20575</td>\n",
       "    </tr>\n",
       "    <tr>\n",
       "      <th>314</th>\n",
       "      <td>2015-11-11</td>\n",
       "      <td>26.25</td>\n",
       "      <td>19.8</td>\n",
       "      <td>32.7</td>\n",
       "      <td>0.0</td>\n",
       "      <td>0.0</td>\n",
       "      <td>29569</td>\n",
       "    </tr>\n",
       "  </tbody>\n",
       "</table>\n",
       "</div>"
      ],
      "text/plain": [
       "          data  temp_avg  temp_min  temp_max  precip  weekend  \\\n",
       "168 2015-06-18     21.00      15.8      26.2     0.0      0.0   \n",
       "181 2015-07-01     18.35      16.2      20.5     0.0      0.0   \n",
       "309 2015-11-06     20.40      18.0      22.8     0.0      0.0   \n",
       "314 2015-11-11     26.25      19.8      32.7     0.0      0.0   \n",
       "\n",
       "     beer_consumption  \n",
       "168             24534  \n",
       "181             20824  \n",
       "309             20575  \n",
       "314             29569  "
      ]
     },
     "execution_count": 96,
     "metadata": {},
     "output_type": "execute_result"
    }
   ],
   "source": [
    "df_beer.loc[[168,181,309,314]]"
   ]
  },
  {
   "cell_type": "code",
   "execution_count": 97,
   "metadata": {
    "collapsed": true
   },
   "outputs": [],
   "source": [
    "df_beer[\"temp_min\"] = df_beer[\"temp_min\"].replace(np.nan,df_beer[\"temp_min\"].mean())"
   ]
  },
  {
   "cell_type": "code",
   "execution_count": 98,
   "metadata": {},
   "outputs": [
    {
     "data": {
      "text/html": [
       "<div>\n",
       "<style>\n",
       "    .dataframe thead tr:only-child th {\n",
       "        text-align: right;\n",
       "    }\n",
       "\n",
       "    .dataframe thead th {\n",
       "        text-align: left;\n",
       "    }\n",
       "\n",
       "    .dataframe tbody tr th {\n",
       "        vertical-align: top;\n",
       "    }\n",
       "</style>\n",
       "<table border=\"1\" class=\"dataframe\">\n",
       "  <thead>\n",
       "    <tr style=\"text-align: right;\">\n",
       "      <th></th>\n",
       "      <th>data</th>\n",
       "      <th>temp_avg</th>\n",
       "      <th>temp_min</th>\n",
       "      <th>temp_max</th>\n",
       "      <th>precip</th>\n",
       "      <th>weekend</th>\n",
       "      <th>beer_consumption</th>\n",
       "    </tr>\n",
       "  </thead>\n",
       "  <tbody>\n",
       "    <tr>\n",
       "      <th>7</th>\n",
       "      <td>2015-01-08</td>\n",
       "      <td>24.90</td>\n",
       "      <td>17.39697</td>\n",
       "      <td>32.8</td>\n",
       "      <td>48.6</td>\n",
       "      <td>0.0</td>\n",
       "      <td>28397</td>\n",
       "    </tr>\n",
       "    <tr>\n",
       "      <th>116</th>\n",
       "      <td>2015-04-27</td>\n",
       "      <td>19.82</td>\n",
       "      <td>17.39697</td>\n",
       "      <td>24.9</td>\n",
       "      <td>0.0</td>\n",
       "      <td>0.0</td>\n",
       "      <td>21838</td>\n",
       "    </tr>\n",
       "  </tbody>\n",
       "</table>\n",
       "</div>"
      ],
      "text/plain": [
       "          data  temp_avg  temp_min  temp_max  precip  weekend  \\\n",
       "7   2015-01-08     24.90  17.39697      32.8    48.6      0.0   \n",
       "116 2015-04-27     19.82  17.39697      24.9     0.0      0.0   \n",
       "\n",
       "     beer_consumption  \n",
       "7               28397  \n",
       "116             21838  "
      ]
     },
     "execution_count": 98,
     "metadata": {},
     "output_type": "execute_result"
    }
   ],
   "source": [
    "df_beer.loc[[7,116]]"
   ]
  },
  {
   "cell_type": "code",
   "execution_count": 99,
   "metadata": {
    "collapsed": true
   },
   "outputs": [],
   "source": [
    "df_beer[\"temp_max\"] = df_beer[\"temp_max\"].replace(np.nan,df_beer[\"temp_max\"].mean())"
   ]
  },
  {
   "cell_type": "code",
   "execution_count": 100,
   "metadata": {},
   "outputs": [
    {
     "data": {
      "text/html": [
       "<div>\n",
       "<style>\n",
       "    .dataframe thead tr:only-child th {\n",
       "        text-align: right;\n",
       "    }\n",
       "\n",
       "    .dataframe thead th {\n",
       "        text-align: left;\n",
       "    }\n",
       "\n",
       "    .dataframe tbody tr th {\n",
       "        vertical-align: top;\n",
       "    }\n",
       "</style>\n",
       "<table border=\"1\" class=\"dataframe\">\n",
       "  <thead>\n",
       "    <tr style=\"text-align: right;\">\n",
       "      <th></th>\n",
       "      <th>data</th>\n",
       "      <th>temp_avg</th>\n",
       "      <th>temp_min</th>\n",
       "      <th>temp_max</th>\n",
       "      <th>precip</th>\n",
       "      <th>weekend</th>\n",
       "      <th>beer_consumption</th>\n",
       "    </tr>\n",
       "  </thead>\n",
       "  <tbody>\n",
       "    <tr>\n",
       "      <th>98</th>\n",
       "      <td>2015-04-09</td>\n",
       "      <td>19.40</td>\n",
       "      <td>15.9</td>\n",
       "      <td>26.480663</td>\n",
       "      <td>0.0</td>\n",
       "      <td>0.0</td>\n",
       "      <td>20298</td>\n",
       "    </tr>\n",
       "    <tr>\n",
       "      <th>165</th>\n",
       "      <td>2015-06-15</td>\n",
       "      <td>16.02</td>\n",
       "      <td>13.1</td>\n",
       "      <td>26.480663</td>\n",
       "      <td>0.0</td>\n",
       "      <td>0.0</td>\n",
       "      <td>19119</td>\n",
       "    </tr>\n",
       "    <tr>\n",
       "      <th>237</th>\n",
       "      <td>2015-08-26</td>\n",
       "      <td>18.92</td>\n",
       "      <td>14.8</td>\n",
       "      <td>26.480663</td>\n",
       "      <td>0.6</td>\n",
       "      <td>0.0</td>\n",
       "      <td>23357</td>\n",
       "    </tr>\n",
       "  </tbody>\n",
       "</table>\n",
       "</div>"
      ],
      "text/plain": [
       "          data  temp_avg  temp_min   temp_max  precip  weekend  \\\n",
       "98  2015-04-09     19.40      15.9  26.480663     0.0      0.0   \n",
       "165 2015-06-15     16.02      13.1  26.480663     0.0      0.0   \n",
       "237 2015-08-26     18.92      14.8  26.480663     0.6      0.0   \n",
       "\n",
       "     beer_consumption  \n",
       "98              20298  \n",
       "165             19119  \n",
       "237             23357  "
      ]
     },
     "execution_count": 100,
     "metadata": {},
     "output_type": "execute_result"
    }
   ],
   "source": [
    "df_beer.loc[[98, 165, 237]]"
   ]
  },
  {
   "cell_type": "code",
   "execution_count": 103,
   "metadata": {
    "collapsed": true
   },
   "outputs": [],
   "source": [
    "df_beer[\"weekend\"] = df_beer[\"weekend\"].replace(np.nan,df_beer[\"weekend\"].mode()[0])"
   ]
  },
  {
   "cell_type": "code",
   "execution_count": 104,
   "metadata": {},
   "outputs": [
    {
     "data": {
      "text/html": [
       "<div>\n",
       "<style>\n",
       "    .dataframe thead tr:only-child th {\n",
       "        text-align: right;\n",
       "    }\n",
       "\n",
       "    .dataframe thead th {\n",
       "        text-align: left;\n",
       "    }\n",
       "\n",
       "    .dataframe tbody tr th {\n",
       "        vertical-align: top;\n",
       "    }\n",
       "</style>\n",
       "<table border=\"1\" class=\"dataframe\">\n",
       "  <thead>\n",
       "    <tr style=\"text-align: right;\">\n",
       "      <th></th>\n",
       "      <th>data</th>\n",
       "      <th>temp_avg</th>\n",
       "      <th>temp_min</th>\n",
       "      <th>temp_max</th>\n",
       "      <th>precip</th>\n",
       "      <th>weekend</th>\n",
       "      <th>beer_consumption</th>\n",
       "    </tr>\n",
       "  </thead>\n",
       "  <tbody>\n",
       "    <tr>\n",
       "      <th>21</th>\n",
       "      <td>2015-01-22</td>\n",
       "      <td>21.74</td>\n",
       "      <td>19.2</td>\n",
       "      <td>0.0</td>\n",
       "      <td>31.0</td>\n",
       "      <td>0.0</td>\n",
       "      <td>25795</td>\n",
       "    </tr>\n",
       "    <tr>\n",
       "      <th>27</th>\n",
       "      <td>2015-01-28</td>\n",
       "      <td>25.68</td>\n",
       "      <td>20.1</td>\n",
       "      <td>29.9</td>\n",
       "      <td>4.9</td>\n",
       "      <td>0.0</td>\n",
       "      <td>22603</td>\n",
       "    </tr>\n",
       "  </tbody>\n",
       "</table>\n",
       "</div>"
      ],
      "text/plain": [
       "         data  temp_avg  temp_min  temp_max  precip  weekend  beer_consumption\n",
       "21 2015-01-22     21.74      19.2       0.0    31.0      0.0             25795\n",
       "27 2015-01-28     25.68      20.1      29.9     4.9      0.0             22603"
      ]
     },
     "execution_count": 104,
     "metadata": {},
     "output_type": "execute_result"
    }
   ],
   "source": [
    "df_beer.loc[[21,27]]"
   ]
  },
  {
   "cell_type": "code",
   "execution_count": 102,
   "metadata": {},
   "outputs": [
    {
     "data": {
      "text/plain": [
       "0.0"
      ]
     },
     "execution_count": 102,
     "metadata": {},
     "output_type": "execute_result"
    }
   ],
   "source": [
    "df_beer[\"weekend\"].mode()[0]"
   ]
  },
  {
   "cell_type": "code",
   "execution_count": 105,
   "metadata": {},
   "outputs": [
    {
     "data": {
      "text/plain": [
       "data                False\n",
       "temp_avg            False\n",
       "temp_min            False\n",
       "temp_max            False\n",
       "precip              False\n",
       "weekend             False\n",
       "beer_consumption    False\n",
       "dtype: bool"
      ]
     },
     "execution_count": 105,
     "metadata": {},
     "output_type": "execute_result"
    }
   ],
   "source": [
    "df_beer.isnull().any()"
   ]
  },
  {
   "cell_type": "markdown",
   "metadata": {},
   "source": [
    "Verifcar ocorrência de números iguais a 0, que seria inválido"
   ]
  },
  {
   "cell_type": "code",
   "execution_count": 107,
   "metadata": {},
   "outputs": [
    {
     "data": {
      "text/plain": [
       "data                False\n",
       "temp_avg             True\n",
       "temp_min             True\n",
       "temp_max             True\n",
       "precip               True\n",
       "weekend              True\n",
       "beer_consumption    False\n",
       "dtype: bool"
      ]
     },
     "execution_count": 107,
     "metadata": {},
     "output_type": "execute_result"
    }
   ],
   "source": [
    "(df_beer == 0).any()"
   ]
  },
  {
   "cell_type": "code",
   "execution_count": 111,
   "metadata": {},
   "outputs": [
    {
     "data": {
      "text/html": [
       "<div>\n",
       "<style>\n",
       "    .dataframe thead tr:only-child th {\n",
       "        text-align: right;\n",
       "    }\n",
       "\n",
       "    .dataframe thead th {\n",
       "        text-align: left;\n",
       "    }\n",
       "\n",
       "    .dataframe tbody tr th {\n",
       "        vertical-align: top;\n",
       "    }\n",
       "</style>\n",
       "<table border=\"1\" class=\"dataframe\">\n",
       "  <thead>\n",
       "    <tr style=\"text-align: right;\">\n",
       "      <th></th>\n",
       "      <th>data</th>\n",
       "      <th>temp_avg</th>\n",
       "      <th>temp_min</th>\n",
       "      <th>temp_max</th>\n",
       "      <th>precip</th>\n",
       "      <th>weekend</th>\n",
       "      <th>beer_consumption</th>\n",
       "    </tr>\n",
       "  </thead>\n",
       "  <tbody>\n",
       "    <tr>\n",
       "      <th>323</th>\n",
       "      <td>2015-11-20</td>\n",
       "      <td>0.0</td>\n",
       "      <td>19.6</td>\n",
       "      <td>27.0</td>\n",
       "      <td>6.8</td>\n",
       "      <td>0.0</td>\n",
       "      <td>20332</td>\n",
       "    </tr>\n",
       "    <tr>\n",
       "      <th>339</th>\n",
       "      <td>2015-12-06</td>\n",
       "      <td>0.0</td>\n",
       "      <td>20.6</td>\n",
       "      <td>28.0</td>\n",
       "      <td>0.1</td>\n",
       "      <td>1.0</td>\n",
       "      <td>32780</td>\n",
       "    </tr>\n",
       "  </tbody>\n",
       "</table>\n",
       "</div>"
      ],
      "text/plain": [
       "          data  temp_avg  temp_min  temp_max  precip  weekend  \\\n",
       "323 2015-11-20       0.0      19.6      27.0     6.8      0.0   \n",
       "339 2015-12-06       0.0      20.6      28.0     0.1      1.0   \n",
       "\n",
       "     beer_consumption  \n",
       "323             20332  \n",
       "339             32780  "
      ]
     },
     "execution_count": 111,
     "metadata": {},
     "output_type": "execute_result"
    }
   ],
   "source": [
    "df_beer[df_beer[\"temp_avg\"] == 0]"
   ]
  },
  {
   "cell_type": "code",
   "execution_count": 112,
   "metadata": {},
   "outputs": [
    {
     "data": {
      "text/html": [
       "<div>\n",
       "<style>\n",
       "    .dataframe thead tr:only-child th {\n",
       "        text-align: right;\n",
       "    }\n",
       "\n",
       "    .dataframe thead th {\n",
       "        text-align: left;\n",
       "    }\n",
       "\n",
       "    .dataframe tbody tr th {\n",
       "        vertical-align: top;\n",
       "    }\n",
       "</style>\n",
       "<table border=\"1\" class=\"dataframe\">\n",
       "  <thead>\n",
       "    <tr style=\"text-align: right;\">\n",
       "      <th></th>\n",
       "      <th>data</th>\n",
       "      <th>temp_avg</th>\n",
       "      <th>temp_min</th>\n",
       "      <th>temp_max</th>\n",
       "      <th>precip</th>\n",
       "      <th>weekend</th>\n",
       "      <th>beer_consumption</th>\n",
       "    </tr>\n",
       "  </thead>\n",
       "  <tbody>\n",
       "    <tr>\n",
       "      <th>13</th>\n",
       "      <td>2015-01-14</td>\n",
       "      <td>25.96</td>\n",
       "      <td>0.0</td>\n",
       "      <td>34.0</td>\n",
       "      <td>1.6</td>\n",
       "      <td>0.0</td>\n",
       "      <td>31825</td>\n",
       "    </tr>\n",
       "  </tbody>\n",
       "</table>\n",
       "</div>"
      ],
      "text/plain": [
       "         data  temp_avg  temp_min  temp_max  precip  weekend  beer_consumption\n",
       "13 2015-01-14     25.96       0.0      34.0     1.6      0.0             31825"
      ]
     },
     "execution_count": 112,
     "metadata": {},
     "output_type": "execute_result"
    }
   ],
   "source": [
    "df_beer[df_beer[\"temp_min\"] == 0]"
   ]
  },
  {
   "cell_type": "code",
   "execution_count": 113,
   "metadata": {},
   "outputs": [
    {
     "data": {
      "text/html": [
       "<div>\n",
       "<style>\n",
       "    .dataframe thead tr:only-child th {\n",
       "        text-align: right;\n",
       "    }\n",
       "\n",
       "    .dataframe thead th {\n",
       "        text-align: left;\n",
       "    }\n",
       "\n",
       "    .dataframe tbody tr th {\n",
       "        vertical-align: top;\n",
       "    }\n",
       "</style>\n",
       "<table border=\"1\" class=\"dataframe\">\n",
       "  <thead>\n",
       "    <tr style=\"text-align: right;\">\n",
       "      <th></th>\n",
       "      <th>data</th>\n",
       "      <th>temp_avg</th>\n",
       "      <th>temp_min</th>\n",
       "      <th>temp_max</th>\n",
       "      <th>precip</th>\n",
       "      <th>weekend</th>\n",
       "      <th>beer_consumption</th>\n",
       "    </tr>\n",
       "  </thead>\n",
       "  <tbody>\n",
       "    <tr>\n",
       "      <th>21</th>\n",
       "      <td>2015-01-22</td>\n",
       "      <td>21.74</td>\n",
       "      <td>19.2</td>\n",
       "      <td>0.0</td>\n",
       "      <td>31.0</td>\n",
       "      <td>0.0</td>\n",
       "      <td>25795</td>\n",
       "    </tr>\n",
       "    <tr>\n",
       "      <th>113</th>\n",
       "      <td>2015-04-24</td>\n",
       "      <td>22.52</td>\n",
       "      <td>19.3</td>\n",
       "      <td>0.0</td>\n",
       "      <td>0.0</td>\n",
       "      <td>0.0</td>\n",
       "      <td>24388</td>\n",
       "    </tr>\n",
       "  </tbody>\n",
       "</table>\n",
       "</div>"
      ],
      "text/plain": [
       "          data  temp_avg  temp_min  temp_max  precip  weekend  \\\n",
       "21  2015-01-22     21.74      19.2       0.0    31.0      0.0   \n",
       "113 2015-04-24     22.52      19.3       0.0     0.0      0.0   \n",
       "\n",
       "     beer_consumption  \n",
       "21              25795  \n",
       "113             24388  "
      ]
     },
     "execution_count": 113,
     "metadata": {},
     "output_type": "execute_result"
    }
   ],
   "source": [
    "df_beer[df_beer[\"temp_max\"] == 0]"
   ]
  },
  {
   "cell_type": "code",
   "execution_count": 115,
   "metadata": {},
   "outputs": [
    {
     "data": {
      "text/html": [
       "<div>\n",
       "<style>\n",
       "    .dataframe thead tr:only-child th {\n",
       "        text-align: right;\n",
       "    }\n",
       "\n",
       "    .dataframe thead th {\n",
       "        text-align: left;\n",
       "    }\n",
       "\n",
       "    .dataframe tbody tr th {\n",
       "        vertical-align: top;\n",
       "    }\n",
       "</style>\n",
       "<table border=\"1\" class=\"dataframe\">\n",
       "  <thead>\n",
       "    <tr style=\"text-align: right;\">\n",
       "      <th></th>\n",
       "      <th>data</th>\n",
       "      <th>temp_avg</th>\n",
       "      <th>temp_min</th>\n",
       "      <th>temp_max</th>\n",
       "      <th>precip</th>\n",
       "      <th>weekend</th>\n",
       "      <th>beer_consumption</th>\n",
       "    </tr>\n",
       "  </thead>\n",
       "  <tbody>\n",
       "    <tr>\n",
       "      <th>0</th>\n",
       "      <td>2015-01-01</td>\n",
       "      <td>27.30</td>\n",
       "      <td>23.9</td>\n",
       "      <td>32.5</td>\n",
       "      <td>0.0</td>\n",
       "      <td>0.0</td>\n",
       "      <td>25461</td>\n",
       "    </tr>\n",
       "    <tr>\n",
       "      <th>1</th>\n",
       "      <td>2015-01-02</td>\n",
       "      <td>27.02</td>\n",
       "      <td>24.5</td>\n",
       "      <td>33.5</td>\n",
       "      <td>0.0</td>\n",
       "      <td>0.0</td>\n",
       "      <td>28972</td>\n",
       "    </tr>\n",
       "    <tr>\n",
       "      <th>2</th>\n",
       "      <td>2015-01-03</td>\n",
       "      <td>24.82</td>\n",
       "      <td>22.4</td>\n",
       "      <td>29.9</td>\n",
       "      <td>0.0</td>\n",
       "      <td>1.0</td>\n",
       "      <td>30814</td>\n",
       "    </tr>\n",
       "    <tr>\n",
       "      <th>4</th>\n",
       "      <td>2015-01-05</td>\n",
       "      <td>23.82</td>\n",
       "      <td>21.0</td>\n",
       "      <td>28.3</td>\n",
       "      <td>0.0</td>\n",
       "      <td>0.0</td>\n",
       "      <td>28900</td>\n",
       "    </tr>\n",
       "    <tr>\n",
       "      <th>6</th>\n",
       "      <td>2015-01-07</td>\n",
       "      <td>24.00</td>\n",
       "      <td>19.5</td>\n",
       "      <td>33.7</td>\n",
       "      <td>0.0</td>\n",
       "      <td>0.0</td>\n",
       "      <td>29732</td>\n",
       "    </tr>\n",
       "    <tr>\n",
       "      <th>9</th>\n",
       "      <td>2015-01-10</td>\n",
       "      <td>26.76</td>\n",
       "      <td>22.1</td>\n",
       "      <td>34.2</td>\n",
       "      <td>0.0</td>\n",
       "      <td>1.0</td>\n",
       "      <td>37937</td>\n",
       "    </tr>\n",
       "    <tr>\n",
       "      <th>11</th>\n",
       "      <td>2015-01-12</td>\n",
       "      <td>25.96</td>\n",
       "      <td>21.4</td>\n",
       "      <td>35.4</td>\n",
       "      <td>0.0</td>\n",
       "      <td>0.0</td>\n",
       "      <td>25743</td>\n",
       "    </tr>\n",
       "    <tr>\n",
       "      <th>16</th>\n",
       "      <td>2015-01-17</td>\n",
       "      <td>28.86</td>\n",
       "      <td>22.0</td>\n",
       "      <td>35.8</td>\n",
       "      <td>0.0</td>\n",
       "      <td>1.0</td>\n",
       "      <td>37690</td>\n",
       "    </tr>\n",
       "    <tr>\n",
       "      <th>17</th>\n",
       "      <td>2015-01-18</td>\n",
       "      <td>28.26</td>\n",
       "      <td>23.4</td>\n",
       "      <td>35.6</td>\n",
       "      <td>0.0</td>\n",
       "      <td>1.0</td>\n",
       "      <td>30524</td>\n",
       "    </tr>\n",
       "    <tr>\n",
       "      <th>20</th>\n",
       "      <td>2015-01-21</td>\n",
       "      <td>25.32</td>\n",
       "      <td>22.7</td>\n",
       "      <td>30.9</td>\n",
       "      <td>0.0</td>\n",
       "      <td>0.0</td>\n",
       "      <td>29130</td>\n",
       "    </tr>\n",
       "  </tbody>\n",
       "</table>\n",
       "</div>"
      ],
      "text/plain": [
       "         data  temp_avg  temp_min  temp_max  precip  weekend  beer_consumption\n",
       "0  2015-01-01     27.30      23.9      32.5     0.0      0.0             25461\n",
       "1  2015-01-02     27.02      24.5      33.5     0.0      0.0             28972\n",
       "2  2015-01-03     24.82      22.4      29.9     0.0      1.0             30814\n",
       "4  2015-01-05     23.82      21.0      28.3     0.0      0.0             28900\n",
       "6  2015-01-07     24.00      19.5      33.7     0.0      0.0             29732\n",
       "9  2015-01-10     26.76      22.1      34.2     0.0      1.0             37937\n",
       "11 2015-01-12     25.96      21.4      35.4     0.0      0.0             25743\n",
       "16 2015-01-17     28.86      22.0      35.8     0.0      1.0             37690\n",
       "17 2015-01-18     28.26      23.4      35.6     0.0      1.0             30524\n",
       "20 2015-01-21     25.32      22.7      30.9     0.0      0.0             29130"
      ]
     },
     "execution_count": 115,
     "metadata": {},
     "output_type": "execute_result"
    }
   ],
   "source": [
    "df_beer[df_beer[\"precip\"] == 0].head(10)"
   ]
  },
  {
   "cell_type": "code",
   "execution_count": 116,
   "metadata": {},
   "outputs": [
    {
     "data": {
      "text/html": [
       "<div>\n",
       "<style>\n",
       "    .dataframe thead tr:only-child th {\n",
       "        text-align: right;\n",
       "    }\n",
       "\n",
       "    .dataframe thead th {\n",
       "        text-align: left;\n",
       "    }\n",
       "\n",
       "    .dataframe tbody tr th {\n",
       "        vertical-align: top;\n",
       "    }\n",
       "</style>\n",
       "<table border=\"1\" class=\"dataframe\">\n",
       "  <thead>\n",
       "    <tr style=\"text-align: right;\">\n",
       "      <th></th>\n",
       "      <th>data</th>\n",
       "      <th>temp_avg</th>\n",
       "      <th>temp_min</th>\n",
       "      <th>temp_max</th>\n",
       "      <th>precip</th>\n",
       "      <th>weekend</th>\n",
       "      <th>beer_consumption</th>\n",
       "    </tr>\n",
       "  </thead>\n",
       "  <tbody>\n",
       "    <tr>\n",
       "      <th>0</th>\n",
       "      <td>2015-01-01</td>\n",
       "      <td>27.30</td>\n",
       "      <td>23.90000</td>\n",
       "      <td>32.5</td>\n",
       "      <td>0.0</td>\n",
       "      <td>0.0</td>\n",
       "      <td>25461</td>\n",
       "    </tr>\n",
       "    <tr>\n",
       "      <th>1</th>\n",
       "      <td>2015-01-02</td>\n",
       "      <td>27.02</td>\n",
       "      <td>24.50000</td>\n",
       "      <td>33.5</td>\n",
       "      <td>0.0</td>\n",
       "      <td>0.0</td>\n",
       "      <td>28972</td>\n",
       "    </tr>\n",
       "    <tr>\n",
       "      <th>4</th>\n",
       "      <td>2015-01-05</td>\n",
       "      <td>23.82</td>\n",
       "      <td>21.00000</td>\n",
       "      <td>28.3</td>\n",
       "      <td>0.0</td>\n",
       "      <td>0.0</td>\n",
       "      <td>28900</td>\n",
       "    </tr>\n",
       "    <tr>\n",
       "      <th>5</th>\n",
       "      <td>2015-01-06</td>\n",
       "      <td>23.78</td>\n",
       "      <td>20.10000</td>\n",
       "      <td>30.5</td>\n",
       "      <td>12.2</td>\n",
       "      <td>0.0</td>\n",
       "      <td>28218</td>\n",
       "    </tr>\n",
       "    <tr>\n",
       "      <th>6</th>\n",
       "      <td>2015-01-07</td>\n",
       "      <td>24.00</td>\n",
       "      <td>19.50000</td>\n",
       "      <td>33.7</td>\n",
       "      <td>0.0</td>\n",
       "      <td>0.0</td>\n",
       "      <td>29732</td>\n",
       "    </tr>\n",
       "    <tr>\n",
       "      <th>7</th>\n",
       "      <td>2015-01-08</td>\n",
       "      <td>24.90</td>\n",
       "      <td>17.39697</td>\n",
       "      <td>32.8</td>\n",
       "      <td>48.6</td>\n",
       "      <td>0.0</td>\n",
       "      <td>28397</td>\n",
       "    </tr>\n",
       "    <tr>\n",
       "      <th>8</th>\n",
       "      <td>2015-01-09</td>\n",
       "      <td>28.20</td>\n",
       "      <td>21.90000</td>\n",
       "      <td>34.0</td>\n",
       "      <td>4.4</td>\n",
       "      <td>0.0</td>\n",
       "      <td>24886</td>\n",
       "    </tr>\n",
       "    <tr>\n",
       "      <th>11</th>\n",
       "      <td>2015-01-12</td>\n",
       "      <td>25.96</td>\n",
       "      <td>21.40000</td>\n",
       "      <td>35.4</td>\n",
       "      <td>0.0</td>\n",
       "      <td>0.0</td>\n",
       "      <td>25743</td>\n",
       "    </tr>\n",
       "    <tr>\n",
       "      <th>12</th>\n",
       "      <td>2015-01-13</td>\n",
       "      <td>25.52</td>\n",
       "      <td>21.20000</td>\n",
       "      <td>34.8</td>\n",
       "      <td>0.8</td>\n",
       "      <td>0.0</td>\n",
       "      <td>26990</td>\n",
       "    </tr>\n",
       "    <tr>\n",
       "      <th>13</th>\n",
       "      <td>2015-01-14</td>\n",
       "      <td>25.96</td>\n",
       "      <td>0.00000</td>\n",
       "      <td>34.0</td>\n",
       "      <td>1.6</td>\n",
       "      <td>0.0</td>\n",
       "      <td>31825</td>\n",
       "    </tr>\n",
       "  </tbody>\n",
       "</table>\n",
       "</div>"
      ],
      "text/plain": [
       "         data  temp_avg  temp_min  temp_max  precip  weekend  beer_consumption\n",
       "0  2015-01-01     27.30  23.90000      32.5     0.0      0.0             25461\n",
       "1  2015-01-02     27.02  24.50000      33.5     0.0      0.0             28972\n",
       "4  2015-01-05     23.82  21.00000      28.3     0.0      0.0             28900\n",
       "5  2015-01-06     23.78  20.10000      30.5    12.2      0.0             28218\n",
       "6  2015-01-07     24.00  19.50000      33.7     0.0      0.0             29732\n",
       "7  2015-01-08     24.90  17.39697      32.8    48.6      0.0             28397\n",
       "8  2015-01-09     28.20  21.90000      34.0     4.4      0.0             24886\n",
       "11 2015-01-12     25.96  21.40000      35.4     0.0      0.0             25743\n",
       "12 2015-01-13     25.52  21.20000      34.8     0.8      0.0             26990\n",
       "13 2015-01-14     25.96   0.00000      34.0     1.6      0.0             31825"
      ]
     },
     "execution_count": 116,
     "metadata": {},
     "output_type": "execute_result"
    }
   ],
   "source": [
    "df_beer[df_beer[\"weekend\"] == 0].head(10)"
   ]
  },
  {
   "cell_type": "markdown",
   "metadata": {},
   "source": [
    "Precipitação e Weekend podem ser igual a 0."
   ]
  },
  {
   "cell_type": "markdown",
   "metadata": {},
   "source": [
    "Utilizar mesma estratégia anterior para os demais atributos."
   ]
  },
  {
   "cell_type": "code",
   "execution_count": 117,
   "metadata": {
    "collapsed": true
   },
   "outputs": [],
   "source": [
    "df_beer[\"temp_avg\"] = df_beer[\"temp_avg\"].replace(0,(df_beer[\"temp_max\"] + df_beer[\"temp_min\"])/2)\n",
    "df_beer[\"temp_min\"] = df_beer[\"temp_min\"].replace(0,df_beer[\"temp_min\"].mean())\n",
    "df_beer[\"temp_max\"] = df_beer[\"temp_max\"].replace(0,df_beer[\"temp_max\"].mean())"
   ]
  },
  {
   "cell_type": "code",
   "execution_count": 118,
   "metadata": {},
   "outputs": [
    {
     "data": {
      "text/plain": [
       "data                False\n",
       "temp_avg            False\n",
       "temp_min            False\n",
       "temp_max            False\n",
       "precip               True\n",
       "weekend              True\n",
       "beer_consumption    False\n",
       "dtype: bool"
      ]
     },
     "execution_count": 118,
     "metadata": {},
     "output_type": "execute_result"
    }
   ],
   "source": [
    "(df_beer == 0).any()"
   ]
  }
 ],
 "metadata": {
  "kernelspec": {
   "display_name": "Python 3",
   "language": "python",
   "name": "python3"
  },
  "language_info": {
   "codemirror_mode": {
    "name": "ipython",
    "version": 3
   },
   "file_extension": ".py",
   "mimetype": "text/x-python",
   "name": "python",
   "nbconvert_exporter": "python",
   "pygments_lexer": "ipython3",
   "version": "3.6.5"
  }
 },
 "nbformat": 4,
 "nbformat_minor": 2
}
